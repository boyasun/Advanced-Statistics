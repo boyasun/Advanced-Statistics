{
 "cells": [
  {
   "cell_type": "markdown",
   "metadata": {},
   "source": [
    "#### About Project\n",
    "The goal of this project is to apply principal component analysis and build a positioning map for the car brands, where the number of attributes exceed the number of brands (p > N). Infinity is the focal brand. We recommend what Infinity should do to improve the car's design according to the brand map"
   ]
  },
  {
   "attachments": {},
   "cell_type": "markdown",
   "metadata": {},
   "source": [
    "#### Positioning Map\n",
    "Poisitioning Map is a visual representation of brands in attribute space.\n",
    "It informs managers which brands they compete with more strongly than others.<br>\n",
    "Proximity on the map means Competition. Therefore, the goal is to stay apart from neighboring brands (differentiated, distinctive)."
   ]
  },
  {
   "cell_type": "code",
   "execution_count": 1,
   "metadata": {
    "scrolled": true
   },
   "outputs": [
    {
     "name": "stderr",
     "output_type": "stream",
     "text": [
      "Warning message:\n",
      "\"package 'glmnet' was built under R version 3.6.2\"Loading required package: Matrix\n",
      "Warning message:\n",
      "\"package 'Matrix' was built under R version 3.6.2\"Loaded glmnet 3.0-2\n",
      "\n"
     ]
    }
   ],
   "source": [
    "library(glmnet)\n",
    "library('MASS')\n",
    "library(shape)"
   ]
  },
  {
   "cell_type": "markdown",
   "metadata": {},
   "source": [
    "#### 1. \n",
    "- use eigen decomposition to find the principle components.\n",
    "- Assign names to the principal components based on the dominant weights (the values of eigenvector > 0.3). \n",
    "- Use the names to label the axes of the brand map."
   ]
  },
  {
   "cell_type": "code",
   "execution_count": 2,
   "metadata": {},
   "outputs": [
    {
     "data": {
      "text/plain": [
       "      Brands    Attractive        Quiet         Unreliable     Poorly.Built  \n",
       " Audi    :1   Min.   :3.900   Min.   :2.800   Min.   :2.000   Min.   :1.600  \n",
       " BMW     :1   1st Qu.:4.000   1st Qu.:3.525   1st Qu.:2.975   1st Qu.:2.225  \n",
       " Eagle   :1   Median :4.900   Median :4.500   Median :3.700   Median :2.800  \n",
       " Ford    :1   Mean   :4.780   Mean   :4.410   Mean   :3.420   Mean   :3.090  \n",
       " Honda   :1   3rd Qu.:5.525   3rd Qu.:5.150   3rd Qu.:3.975   3rd Qu.:4.275  \n",
       " Infinity:1   Max.   :5.700   Max.   :6.300   Max.   :4.300   Max.   :4.400  \n",
       " (Other) :4                                                                  \n",
       "  Interesting        Sporty      Uncomfortable       Roomy      \n",
       " Min.   :3.300   Min.   :3.800   Min.   :2.400   Min.   :3.300  \n",
       " 1st Qu.:3.450   1st Qu.:4.150   1st Qu.:3.225   1st Qu.:3.600  \n",
       " Median :3.900   Median :4.900   Median :3.600   Median :3.900  \n",
       " Mean   :4.020   Mean   :4.830   Mean   :3.530   Mean   :4.140  \n",
       " 3rd Qu.:4.225   3rd Qu.:5.175   3rd Qu.:4.000   3rd Qu.:4.275  \n",
       " Max.   :5.400   Max.   :6.200   Max.   :4.400   Max.   :5.800  \n",
       "                                                                \n",
       "  Easy.Service      Prestige         Common        Economical      Successful  \n",
       " Min.   :3.500   Min.   :2.800   Min.   :1.900   Min.   :3.100   Min.   :3.70  \n",
       " 1st Qu.:4.225   1st Qu.:3.575   1st Qu.:3.025   1st Qu.:3.600   1st Qu.:4.25  \n",
       " Median :4.600   Median :5.000   Median :3.550   Median :4.000   Median :5.15  \n",
       " Mean   :4.470   Mean   :4.720   Mean   :3.450   Mean   :4.030   Mean   :4.88  \n",
       " 3rd Qu.:4.850   3rd Qu.:5.550   3rd Qu.:3.900   3rd Qu.:4.525   3rd Qu.:5.45  \n",
       " Max.   :5.000   Max.   :6.400   Max.   :4.300   Max.   :5.000   Max.   :5.90  \n",
       "                                                                               \n",
       "   AvantGarde      Poor.Value    Overall.Preference\n",
       " Min.   :3.600   Min.   :2.600   Min.   :3.00      \n",
       " 1st Qu.:3.750   1st Qu.:3.325   1st Qu.:4.00      \n",
       " Median :4.200   Median :3.550   Median :5.75      \n",
       " Mean   :4.170   Mean   :3.600   Mean   :5.27      \n",
       " 3rd Qu.:4.475   3rd Qu.:4.175   3rd Qu.:6.45      \n",
       " Max.   :4.900   Max.   :4.300   Max.   :6.80      \n",
       "                                                   "
      ]
     },
     "metadata": {},
     "output_type": "display_data"
    }
   ],
   "source": [
    "data=read.csv(\"Cars_Data.csv\", header=T)    # read csv file and label the data as \"data\"\n",
    "summary(data)"
   ]
  },
  {
   "cell_type": "code",
   "execution_count": 5,
   "metadata": {},
   "outputs": [],
   "source": [
    "y=data[,17]\n",
    "x=as.matrix(data[,2:16])"
   ]
  },
  {
   "cell_type": "code",
   "execution_count": 6,
   "metadata": {},
   "outputs": [],
   "source": [
    "# Eigen decomposition \n",
    "xcor = cor(x)\n",
    "out = eigen(xcor)  # eigen decomposition of correlation matrix. Yields eiganvalues and eigenvectors\n",
    "va = out$values\t\t# eigenvalues\n",
    "ve = out$vectors\t# eigenvectors. Each column is an eigenvector and has a unit length. \t"
   ]
  },
  {
   "cell_type": "code",
   "execution_count": 7,
   "metadata": {},
   "outputs": [
    {
     "data": {
      "image/png": "[encoded data removed]",
      "text/plain": [
       "plot without title"
      ]
     },
     "metadata": {},
     "output_type": "display_data"
    }
   ],
   "source": [
    "# Scree Plot\t\t# to decide how many components to keep. Look for \"elbow\" in the scree plot\n",
    "plot(va, type = \"o\", col = \"blue\")"
   ]
  },
  {
   "cell_type": "code",
   "execution_count": 9,
   "metadata": {},
   "outputs": [],
   "source": [
    "# eigenvector provides the weights to create new variables (aka loadings)\n",
    "w1 = ve[,1]\t\t\t\n",
    "w2 = ve[,2]\t\n",
    "# keep 2 components according to the plot above\n",
    "important_attribute<-data.frame(ve[,1:2],row.names = colnames(data[,2:16]))\n",
    "colnames(important_attribute)=c(\"w1\",\"w2\")"
   ]
  },
  {
   "cell_type": "code",
   "execution_count": 17,
   "metadata": {},
   "outputs": [
    {
     "data": {
      "text/html": [
       "<table>\n",
       "<thead><tr><th></th><th scope=col>w1</th><th scope=col>w2</th></tr></thead>\n",
       "<tbody>\n",
       "\t<tr><th scope=row>Attractive</th><td>-0.3262814 </td><td> 0.24406301</td></tr>\n",
       "\t<tr><th scope=row>Quiet</th><td>-0.3173818 </td><td>-0.01310558</td></tr>\n",
       "\t<tr><th scope=row>Poorly.Built</th><td> 0.3319244 </td><td>-0.16061557</td></tr>\n",
       "\t<tr><th scope=row>Prestige</th><td>-0.3322855 </td><td> 0.06323511</td></tr>\n",
       "\t<tr><th scope=row>Successful</th><td>-0.3155394 </td><td> 0.19579257</td></tr>\n",
       "</tbody>\n",
       "</table>\n"
      ],
      "text/latex": [
       "\\begin{tabular}{r|ll}\n",
       "  & w1 & w2\\\\\n",
       "\\hline\n",
       "\tAttractive & -0.3262814  &  0.24406301\\\\\n",
       "\tQuiet & -0.3173818  & -0.01310558\\\\\n",
       "\tPoorly.Built &  0.3319244  & -0.16061557\\\\\n",
       "\tPrestige & -0.3322855  &  0.06323511\\\\\n",
       "\tSuccessful & -0.3155394  &  0.19579257\\\\\n",
       "\\end{tabular}\n"
      ],
      "text/markdown": [
       "\n",
       "| <!--/--> | w1 | w2 |\n",
       "|---|---|---|\n",
       "| Attractive | -0.3262814  |  0.24406301 |\n",
       "| Quiet | -0.3173818  | -0.01310558 |\n",
       "| Poorly.Built |  0.3319244  | -0.16061557 |\n",
       "| Prestige | -0.3322855  |  0.06323511 |\n",
       "| Successful | -0.3155394  |  0.19579257 |\n",
       "\n"
      ],
      "text/plain": [
       "             w1         w2         \n",
       "Attractive   -0.3262814  0.24406301\n",
       "Quiet        -0.3173818 -0.01310558\n",
       "Poorly.Built  0.3319244 -0.16061557\n",
       "Prestige     -0.3322855  0.06323511\n",
       "Successful   -0.3155394  0.19579257"
      ]
     },
     "metadata": {},
     "output_type": "display_data"
    },
    {
     "data": {
      "text/html": [
       "<table>\n",
       "<thead><tr><th></th><th scope=col>w1</th><th scope=col>w2</th></tr></thead>\n",
       "<tbody>\n",
       "\t<tr><th scope=row>Unreliable</th><td> 0.2344774</td><td>-0.4011014</td></tr>\n",
       "\t<tr><th scope=row>Sporty</th><td> 0.2079926</td><td> 0.4288285</td></tr>\n",
       "\t<tr><th scope=row>Roomy</th><td>-0.2472063</td><td>-0.3789204</td></tr>\n",
       "\t<tr><th scope=row>Easy.Service</th><td> 0.1852832</td><td> 0.4279673</td></tr>\n",
       "</tbody>\n",
       "</table>\n"
      ],
      "text/latex": [
       "\\begin{tabular}{r|ll}\n",
       "  & w1 & w2\\\\\n",
       "\\hline\n",
       "\tUnreliable &  0.2344774 & -0.4011014\\\\\n",
       "\tSporty &  0.2079926 &  0.4288285\\\\\n",
       "\tRoomy & -0.2472063 & -0.3789204\\\\\n",
       "\tEasy.Service &  0.1852832 &  0.4279673\\\\\n",
       "\\end{tabular}\n"
      ],
      "text/markdown": [
       "\n",
       "| <!--/--> | w1 | w2 |\n",
       "|---|---|---|\n",
       "| Unreliable |  0.2344774 | -0.4011014 |\n",
       "| Sporty |  0.2079926 |  0.4288285 |\n",
       "| Roomy | -0.2472063 | -0.3789204 |\n",
       "| Easy.Service |  0.1852832 |  0.4279673 |\n",
       "\n"
      ],
      "text/plain": [
       "             w1         w2        \n",
       "Unreliable    0.2344774 -0.4011014\n",
       "Sporty        0.2079926  0.4288285\n",
       "Roomy        -0.2472063 -0.3789204\n",
       "Easy.Service  0.1852832  0.4279673"
      ]
     },
     "metadata": {},
     "output_type": "display_data"
    }
   ],
   "source": [
    "# identify dominant weights (the values of eigenvector > 0.3)\n",
    "important_attribute[abs(important_attribute$w1)>0.3,]\n",
    "important_attribute[abs(important_attribute$w2)>0.3,]"
   ]
  },
  {
   "cell_type": "code",
   "execution_count": 19,
   "metadata": {},
   "outputs": [],
   "source": [
    "# create principal components\n",
    "z1_PoorlyBuilt_Attractive_Quiet_Prestige_Successful = x %*% w1\n",
    "z2_Sporty_EasyService_Unrealiable_Roomy = x %*% w2\n",
    "# flip z1's sign to make the z1-dimension as a desirable benefit\n",
    "z = cbind(-z1_PoorlyBuilt_Attractive_Quiet_Prestige_Successful,z2_Sporty_EasyService_Unrealiable_Roomy)"
   ]
  },
  {
   "cell_type": "markdown",
   "metadata": {},
   "source": [
    "Name z1 as Luxury and z2 as Utility. Therefore, the two attribute dimention of the positioning map is Luxury and Utility"
   ]
  },
  {
   "attachments": {},
   "cell_type": "markdown",
   "metadata": {},
   "source": [
    "#### 2.\n",
    "- Run Principal Component Regression: regress overall preference on two princial components, utility and luxury.\n",
    "- The coefficients of utility of luxury decides the position of the brand on the map.\n",
    "- Iso-prefence line is a line in the attribute space where preference remains constant\n",
    "- The ideal vector is a line perpendicular to the iso-preference lines. It shows the direction of increasing preferences. "
   ]
  },
  {
   "cell_type": "code",
   "execution_count": 26,
   "metadata": {},
   "outputs": [
    {
     "data": {
      "text/plain": [
       "\n",
       "Call:\n",
       "lm(formula = y ~ z)\n",
       "\n",
       "Residuals:\n",
       "    Min      1Q  Median      3Q     Max \n",
       "-0.4455 -0.1693 -0.0614  0.1630  0.7292 \n",
       "\n",
       "Coefficients:\n",
       "            Estimate Std. Error t value Pr(>|t|)    \n",
       "(Intercept)  5.63050    0.45268  12.438  5.0e-06 ***\n",
       "z1           0.56263    0.05280  10.657  1.4e-05 ***\n",
       "z2          -0.04275    0.10829  -0.395    0.705    \n",
       "---\n",
       "Signif. codes:  0 '***' 0.001 '**' 0.01 '*' 0.05 '.' 0.1 ' ' 1\n",
       "\n",
       "Residual standard error: 0.3821 on 7 degrees of freedom\n",
       "Multiple R-squared:  0.9426,\tAdjusted R-squared:  0.9262 \n",
       "F-statistic: 57.47 on 2 and 7 DF,  p-value: 4.532e-05\n"
      ]
     },
     "metadata": {},
     "output_type": "display_data"
    }
   ],
   "source": [
    "# principal component regression \n",
    "linreg=lm(y~z)\n",
    "summary(linreg)"
   ]
  },
  {
   "cell_type": "code",
   "execution_count": 27,
   "metadata": {},
   "outputs": [],
   "source": [
    "# Ideal Vector \t\t\t\t\t\t\t\t\t\t\n",
    "b1=as.vector(coef(linreg)[2])\n",
    "b2=as.vector(coef(linreg)[3])\n",
    "\n",
    "slope.iso.preference = - b1/b2\t\t\t\t\t\n",
    "slope.ideal.vector = b2/b1 \t\t\t\t\t\t\n",
    "\n",
    "angle.iso.preference = atan(slope.iso.preference)*180/pi\t\n",
    "angle.ideal.vector = atan(slope.ideal.vector)*180/pi"
   ]
  },
  {
   "cell_type": "code",
   "execution_count": 30,
   "metadata": {},
   "outputs": [
    {
     "data": {
      "image/png": "[encoded data removed]",
      "text/plain": [
       "Plot with title \"Positioning Map\""
      ]
     },
     "metadata": {},
     "output_type": "display_data"
    }
   ],
   "source": [
    "# plot positioning map\n",
    "plot(z[,1],z[,2], main=\"Positioning Map\", \n",
    "     xlab=\"Luxury\", ylab=\"Utility\",\n",
    "     xlim = c(-4,3), ylim = c(0,7),pch=16, col=\"black\", asp=1)   \n",
    "abline(a = (5-coef(linreg)[1])/coef(linreg)[3] , b = slope.iso.preference , col = \"red\")\n",
    "abline(a = (6-coef(linreg)[1])/coef(linreg)[3] , b = slope.iso.preference , col = \"red\") \n",
    "text(-2,4, \"preference=5\", cex=0.9, pos=4, col=\"red\")\n",
    "text(0,4, \"preference=6\", cex=0.9, pos=4, col=\"red\") # label two iso-preference lines\n",
    "text(z[2:10,1],z[2:10,2], data$Brands[2:10], cex=0.8, pos=1, col=\"black\")\n",
    "text(z[1,1],z[1,2], data$Brands[1], cex=1, pos=3, col=\"red\") # add labels for each brand\n",
    "x1_start = 0\n",
    "x2_start = 0\n",
    "dx1 = 1\n",
    "x1_end = x1_start + dx1\n",
    "x2_end = x2_start + dx1*slope.ideal.vector\n",
    "arrows(x1_start, x2_start, x1_end, x2_end, col =\"red\",length=0.05,lwd = 1)\n",
    "text(-0.5,0.1, \"ideal vector\", cex=0.7, pos=4, col=\"red\") "
   ]
  },
  {
   "cell_type": "markdown",
   "metadata": {},
   "source": [
    "#### Recommendation for Infinity\n",
    "Ideal vector points towards where luxury increases and utility slightly decreases, which means\n",
    "consumers value the attribute “Luxury” more than “Utility”. On the map, in terms of “Luxury”,\n",
    "Infinity is only second to BMW while it is considered less “useful” than Toyota and Honda. Notably,\n",
    "Infinity lies very close to BMW but with less overall consumer preference. In improving its design,\n",
    "Infinity should use a strategy that both increases its consumer preference and differentiates itself\n",
    "from its closest competitor BMW. Specifically, Infinity should aim to increase its luxury (more\n",
    "attractive, quiet, nicely built, prestigious and successful) for higher consumer preference while\n",
    "also increasing its utility (more reliable, sporty, easier service and less roomy) for differentiation."
   ]
  },
  {
   "cell_type": "markdown",
   "metadata": {},
   "source": [
    "#### Bootstrap"
   ]
  },
  {
   "cell_type": "code",
   "execution_count": 31,
   "metadata": {},
   "outputs": [
    {
     "data": {
      "text/html": [
       "-5.65852075992483"
      ],
      "text/latex": [
       "-5.65852075992483"
      ],
      "text/markdown": [
       "-5.65852075992483"
      ],
      "text/plain": [
       "[1] -5.658521"
      ]
     },
     "metadata": {},
     "output_type": "display_data"
    },
    {
     "data": {
      "text/html": [
       "'The 90 percent CI for the angle of the ideal vector is (-16.95, 7.23).'"
      ],
      "text/latex": [
       "'The 90 percent CI for the angle of the ideal vector is (-16.95, 7.23).'"
      ],
      "text/markdown": [
       "'The 90 percent CI for the angle of the ideal vector is (-16.95, 7.23).'"
      ],
      "text/plain": [
       "[1] \"The 90 percent CI for the angle of the ideal vector is (-16.95, 7.23).\""
      ]
     },
     "metadata": {},
     "output_type": "display_data"
    },
    {
     "data": {
      "image/png": "[encoded data removed]",
      "text/plain": [
       "Plot with title \"\""
      ]
     },
     "metadata": {},
     "output_type": "display_data"
    }
   ],
   "source": [
    "set.seed(0229)\n",
    "\n",
    "angles<-c()\n",
    "n <- length(y)\n",
    "for(bootstrap in 1:100){\n",
    "  samp_rows <- sample(1:n,n,replace=TRUE)\n",
    "  linreg=lm(y[samp_rows]~z[samp_rows,])\t\t\t\t\t\t\t\t# Fit linear regression with those predictors \n",
    "\n",
    "  # Ideal Vector \t\t\t\t\t\t\t\t\t\n",
    "  b1=as.vector(coef(linreg)[2])\n",
    "  b2=as.vector(coef(linreg)[3])\n",
    "  slope.ideal.vector = b2/b1 \t\t\t\t\t\t\n",
    "  angle.ideal.vector = atan(slope.ideal.vector)*180/pi\n",
    "  angles <- c(angles,angle.ideal.vector)\n",
    "  }\n",
    "  \n",
    "# plot angles\n",
    "hist(angles, col=\"grey40\", border=\"grey90\", main=\"\",xlab=\"angle.ideal.vector\", ylim = c(0, 70))\n",
    "# mark the mean\n",
    "abline(v=mean(angles))\n",
    "sd_angles<-sd(angles)\n",
    "polygon(x=c(rep(quantile(angles,0.05),2),rep(quantile(angles,0.95),2)),\n",
    "        y=c(0,1000,1000,0), col=rgb(0,1,0,.2), border=NA)\n",
    "text(10,70,\"mean(angles)\")\n",
    "\n",
    "mean(angles)\n",
    "left <- quantile(angles,0.05)\n",
    "right <- quantile(angles,0.95)\n",
    "sprintf(\"The 90 percent CI for the angle of the ideal vector is (%.2f, %.2f).\", left, right)\n"
   ]
  }
 ],
 "metadata": {
  "kernelspec": {
   "display_name": "R",
   "language": "R",
   "name": "ir"
  },
  "language_info": {
   "codemirror_mode": "r",
   "file_extension": ".r",
   "mimetype": "text/x-r-source",
   "name": "R",
   "pygments_lexer": "r",
   "version": "3.6.1"
  }
 },
 "nbformat": 4,
 "nbformat_minor": 4
}
